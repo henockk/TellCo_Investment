{
 "cells": [
  {
   "cell_type": "code",
   "execution_count": null,
   "metadata": {},
   "outputs": [],
   "source": [
    "\n",
    "\n",
    "\n",
    "import pandas as pd\n",
    "from sqlalchemy import create_engine\n",
    "\n",
    "import sys\n",
    "sys.path.append('../')\n",
    "from src.user_behavior import aggregate_user_behavior\n",
    "from src.preprocessing import replace_missing\n",
    "from src.telecom_analysis import identify_top_handsets, identify_top_manufacturers, identify_top_handsets_per_manufacturer, generate_recommendations\n",
    "\n",
    "\n",
    "\n",
    "\n"
   ]
  },
  {
   "cell_type": "code",
   "execution_count": null,
   "metadata": {},
   "outputs": [],
   "source": [
    "database_name = 'telecom'\n",
    "table_name= 'xdr_data'\n",
    "\n",
    "connection_params = { \"host\": \"localhost\", \"user\": \"postgres\", \"password\": \"00000000\",\n",
    "                    \"port\": \"5432\", \"database\": database_name}\n",
    "\n",
    "engine = create_engine(f\"postgresql+psycopg2://{connection_params['user']}:{connection_params['password']}@{connection_params['host']}:{connection_params['port']}/{connection_params['database']}\")\n",
    "\n",
    "# str or SQLAlchemy Selectable (select or text object)\n",
    "sql_query = 'SELECT * FROM xdr_data '\n",
    "\n",
    "df = pd.read_sql(sql_query, con= engine)\n",
    "df"
   ]
  },
  {
   "cell_type": "code",
   "execution_count": null,
   "metadata": {},
   "outputs": [],
   "source": [
    "database_name = 'processed_telecom'\n",
    "table_name= 'xdr_data'\n",
    "\n",
    "connection_params = { \"host\": \"localhost\", \"user\": \"postgres\", \"password\": \"00000000\",\n",
    "                    \"port\": \"5432\", \"database\": database_name}\n",
    "\n",
    "engine = create_engine(f\"postgresql+psycopg2://{connection_params['user']}:{connection_params['password']}@{connection_params['host']}:{connection_params['port']}/{connection_params['database']}\")\n",
    "\n",
    "# str or SQLAlchemy Selectable (select or text object)\n",
    "sql_query = 'SELECT * FROM xdr_data '\n",
    "\n",
    "df = pd.read_sql(sql_query, con= engine)\n",
    "df"
   ]
  },
  {
   "cell_type": "code",
   "execution_count": null,
   "metadata": {},
   "outputs": [],
   "source": [
    "# Preprocess the dataset\n",
    "df = replace_missing(df)\n",
    "df"
   ]
  },
  {
   "cell_type": "code",
   "execution_count": 5,
   "metadata": {},
   "outputs": [
    {
     "name": "stdout",
     "output_type": "stream",
     "text": [
      "Top 10 Handsets:\n",
      "Handset Type\n",
      "Huawei B528S-23A                19752\n",
      "Apple iPhone 6S (A1688)          9419\n",
      "Apple iPhone 6 (A1586)           9023\n",
      "undefined                        8987\n",
      "Apple iPhone 7 (A1778)           6326\n",
      "Apple iPhone Se (A1723)          5187\n",
      "Apple iPhone 8 (A1905)           4993\n",
      "Apple iPhone Xr (A2105)          4568\n",
      "Samsung Galaxy S8 (Sm-G950F)     4520\n",
      "Apple iPhone X (A1901)           3813\n",
      "Name: count, dtype: int64\n"
     ]
    }
   ],
   "source": [
    "# Identify the top 10 handsets\n",
    "top_handsets = identify_top_handsets(df)\n",
    "print(\"Top 10 Handsets:\")\n",
    "print(top_handsets)"
   ]
  },
  {
   "cell_type": "code",
   "execution_count": null,
   "metadata": {},
   "outputs": [],
   "source": [
    "# Generate recommendations to marketing teams\n",
    "recommendations = generate_recommendations()\n",
    "print(\"\\nRecommendations to Marketing Teams:\")\n",
    "print(recommendations)"
   ]
  },
  {
   "cell_type": "code",
   "execution_count": null,
   "metadata": {},
   "outputs": [],
   "source": [
    "# Identify the top 3 handset manufacturers\n",
    "top_manufacturers = identify_top_manufacturers(df)\n",
    "print(\"\\nTop 3 Handset Manufacturers:\")\n",
    "print(top_manufacturers)\n"
   ]
  },
  {
   "cell_type": "code",
   "execution_count": null,
   "metadata": {},
   "outputs": [],
   "source": [
    "# Identify the top 5 handsets per top 3 handset manufacturer\n",
    "top_handsets_per_manufacturer = identify_top_handsets_per_manufacturer(df)\n",
    "print(\"\\nTop 5 Handsets per Top 3 Handset Manufacturers:\")\n",
    "print(top_handsets_per_manufacturer)"
   ]
  }
 ],
 "metadata": {
  "kernelspec": {
   "display_name": "base",
   "language": "python",
   "name": "python3"
  },
  "language_info": {
   "codemirror_mode": {
    "name": "ipython",
    "version": 3
   },
   "file_extension": ".py",
   "mimetype": "text/x-python",
   "name": "python",
   "nbconvert_exporter": "python",
   "pygments_lexer": "ipython3",
   "version": "3.11.7"
  }
 },
 "nbformat": 4,
 "nbformat_minor": 2
}
