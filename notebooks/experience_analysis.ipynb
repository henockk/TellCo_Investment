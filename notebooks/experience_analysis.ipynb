{
 "cells": [
  {
   "cell_type": "code",
   "execution_count": 35,
   "metadata": {},
   "outputs": [],
   "source": [
    "import pandas as pd\n",
    "from sqlalchemy import create_engine\n",
    "from sklearn.preprocessing import StandardScaler\n",
    "from sklearn.cluster import KMeans"
   ]
  },
  {
   "cell_type": "code",
   "execution_count": 17,
   "metadata": {},
   "outputs": [],
   "source": [
    "database_name = 'processed_telecom'\n",
    "table_name= 'xdr_data'\n",
    "\n",
    "connection_params = { \"host\": \"localhost\", \"user\": \"postgres\", \"password\": \"00000000\",\n",
    "                    \"port\": \"5432\", \"database\": database_name}\n",
    "\n",
    "engine = create_engine(f\"postgresql+psycopg2://{connection_params['user']}:{connection_params['password']}@{connection_params['host']}:{connection_params['port']}/{connection_params['database']}\")\n",
    "\n",
    "# str or SQLAlchemy Selectable (select or text object)\n",
    "sql_query = 'SELECT * FROM xdr_data '\n",
    "\n",
    "df = pd.read_sql(sql_query, con= engine)"
   ]
  },
  {
   "cell_type": "code",
   "execution_count": 18,
   "metadata": {},
   "outputs": [
    {
     "name": "stdout",
     "output_type": "stream",
     "text": [
      "<class 'pandas.core.frame.DataFrame'>\n",
      "RangeIndex: 150001 entries, 0 to 150000\n",
      "Data columns (total 55 columns):\n",
      " #   Column                                    Non-Null Count   Dtype  \n",
      "---  ------                                    --------------   -----  \n",
      " 0   Bearer Id                                 150001 non-null  float64\n",
      " 1   Start                                     150000 non-null  object \n",
      " 2   Start ms                                  150001 non-null  float64\n",
      " 3   End                                       150000 non-null  object \n",
      " 4   End ms                                    150001 non-null  float64\n",
      " 5   Dur. (ms)                                 150001 non-null  float64\n",
      " 6   IMSI                                      150001 non-null  float64\n",
      " 7   MSISDN/Number                             150001 non-null  float64\n",
      " 8   IMEI                                      150001 non-null  float64\n",
      " 9   Last Location Name                        148848 non-null  object \n",
      " 10  Avg RTT DL (ms)                           150001 non-null  float64\n",
      " 11  Avg RTT UL (ms)                           150001 non-null  float64\n",
      " 12  Avg Bearer TP DL (kbps)                   150001 non-null  float64\n",
      " 13  Avg Bearer TP UL (kbps)                   150001 non-null  float64\n",
      " 14  TCP DL Retrans. Vol (Bytes)               150001 non-null  float64\n",
      " 15  TCP UL Retrans. Vol (Bytes)               150001 non-null  float64\n",
      " 16  DL TP < 50 Kbps (%)                       150001 non-null  float64\n",
      " 17  50 Kbps < DL TP < 250 Kbps (%)            150001 non-null  float64\n",
      " 18  250 Kbps < DL TP < 1 Mbps (%)             150001 non-null  float64\n",
      " 19  DL TP > 1 Mbps (%)                        150001 non-null  float64\n",
      " 20  UL TP < 10 Kbps (%)                       150001 non-null  float64\n",
      " 21  10 Kbps < UL TP < 50 Kbps (%)             150001 non-null  float64\n",
      " 22  50 Kbps < UL TP < 300 Kbps (%)            150001 non-null  float64\n",
      " 23  UL TP > 300 Kbps (%)                      150001 non-null  float64\n",
      " 24  HTTP DL (Bytes)                           150001 non-null  float64\n",
      " 25  HTTP UL (Bytes)                           150001 non-null  float64\n",
      " 26  Activity Duration DL (ms)                 150001 non-null  float64\n",
      " 27  Activity Duration UL (ms)                 150001 non-null  float64\n",
      " 28  Dur. (ms).1                               150001 non-null  float64\n",
      " 29  Handset Manufacturer                      149429 non-null  object \n",
      " 30  Handset Type                              149429 non-null  object \n",
      " 31  Nb of sec with 125000B < Vol DL           150001 non-null  float64\n",
      " 32  Nb of sec with 1250B < Vol UL < 6250B     150001 non-null  float64\n",
      " 33  Nb of sec with 31250B < Vol DL < 125000B  150001 non-null  float64\n",
      " 34  Nb of sec with 37500B < Vol UL            150001 non-null  float64\n",
      " 35  Nb of sec with 6250B < Vol DL < 31250B    150001 non-null  float64\n",
      " 36  Nb of sec with 6250B < Vol UL < 37500B    150001 non-null  float64\n",
      " 37  Nb of sec with Vol DL < 6250B             150001 non-null  float64\n",
      " 38  Nb of sec with Vol UL < 1250B             150001 non-null  float64\n",
      " 39  Social Media DL (Bytes)                   150001 non-null  float64\n",
      " 40  Social Media UL (Bytes)                   150001 non-null  float64\n",
      " 41  Google DL (Bytes)                         150001 non-null  float64\n",
      " 42  Google UL (Bytes)                         150001 non-null  float64\n",
      " 43  Email DL (Bytes)                          150001 non-null  float64\n",
      " 44  Email UL (Bytes)                          150001 non-null  float64\n",
      " 45  Youtube DL (Bytes)                        150001 non-null  float64\n",
      " 46  Youtube UL (Bytes)                        150001 non-null  float64\n",
      " 47  Netflix DL (Bytes)                        150001 non-null  float64\n",
      " 48  Netflix UL (Bytes)                        150001 non-null  float64\n",
      " 49  Gaming DL (Bytes)                         150001 non-null  float64\n",
      " 50  Gaming UL (Bytes)                         150001 non-null  float64\n",
      " 51  Other DL (Bytes)                          150001 non-null  float64\n",
      " 52  Other UL (Bytes)                          150001 non-null  float64\n",
      " 53  Total UL (Bytes)                          150001 non-null  float64\n",
      " 54  Total DL (Bytes)                          150001 non-null  float64\n",
      "dtypes: float64(50), object(5)\n",
      "memory usage: 62.9+ MB\n"
     ]
    }
   ],
   "source": [
    "df.info()"
   ]
  },
  {
   "cell_type": "markdown",
   "metadata": {},
   "source": [
    "Aggregate information per customer\n"
   ]
  },
  {
   "cell_type": "code",
   "execution_count": 41,
   "metadata": {},
   "outputs": [],
   "source": [
    "# Convert 'Handset Type' column to string type\n",
    "df['Handset Type'] = df['Handset Type'].astype(str)"
   ]
  },
  {
   "cell_type": "code",
   "execution_count": 42,
   "metadata": {},
   "outputs": [
    {
     "name": "stdout",
     "output_type": "stream",
     "text": [
      "   MSISDN/Number  TCP DL Retrans. Vol (Bytes)  Avg RTT DL (ms)  \\\n",
      "0   3.360171e+10                 2.080991e+07       110.000000   \n",
      "1   3.360171e+10                 5.751940e+05       145.000000   \n",
      "2   3.360171e+10                 1.798137e+07       104.397853   \n",
      "3   3.360171e+10                 2.080991e+07        29.000000   \n",
      "4   3.360172e+10                 2.080991e+07       109.795706   \n",
      "\n",
      "                        Handset Type  Avg Bearer TP DL (kbps)  \n",
      "0            Apple iPhone Se (A1723)                23.000000  \n",
      "1             Apple iPhone 6 (A1586)              7677.000000  \n",
      "2  Samsung Galaxy S8 Plus (Sm-G955F)              6671.522963  \n",
      "3        Apple iPhone 7 Plus (A1784)                63.000000  \n",
      "4       Samsung Galaxy S8 (Sm-G950F)                12.000000  \n"
     ]
    }
   ],
   "source": [
    "# Aggregate information per customer\n",
    "aggregated_df = df.groupby('MSISDN/Number').agg({\n",
    "    \n",
    "    'TCP DL Retrans. Vol (Bytes)':'mean',\n",
    "     'Avg RTT DL (ms)': 'mean',\n",
    "       'Handset Type':lambda x:x.mode()[0],\n",
    "        'Avg Bearer TP DL (kbps)': 'mean'\n",
    "       }).reset_index()\n",
    "print(aggregated_df.head())\n"
   ]
  },
  {
   "cell_type": "code",
   "execution_count": 43,
   "metadata": {},
   "outputs": [
    {
     "name": "stdout",
     "output_type": "stream",
     "text": [
      "Top TCP values:\n",
      "6421      50021024.0\n",
      "138739    49991791.0\n",
      "66754     49986834.0\n",
      "136231    49986038.0\n",
      "76027     49969605.0\n",
      "77841     49921268.0\n",
      "143262    49833677.0\n",
      "116528    49779123.0\n",
      "9726      49777538.0\n",
      "139884    49663906.0\n",
      "Name: TCP DL Retrans. Vol (Bytes), dtype: float64\n"
     ]
    }
   ],
   "source": [
    "# Compute top, bottom, and most frequent values\n",
    "top_tcp_values = df['TCP DL Retrans. Vol (Bytes)'].nlargest(10)\n",
    "bottom_tcp_values = df['TCP DL Retrans. Vol (Bytes)'].nsmallest(10)\n",
    "most_frequent_tcp_values = df['TCP DL Retrans. Vol (Bytes)'].value_counts().head(10)\n",
    "print(\"Top TCP values:\")\n",
    "print(top_tcp_values)"
   ]
  },
  {
   "cell_type": "code",
   "execution_count": 44,
   "metadata": {},
   "outputs": [
    {
     "name": "stdout",
     "output_type": "stream",
     "text": [
      "Top RTT values:\n",
      "475      221.0\n",
      "3128     221.0\n",
      "5416     221.0\n",
      "5824     221.0\n",
      "8464     221.0\n",
      "9391     221.0\n",
      "10456    221.0\n",
      "14120    221.0\n",
      "17469    221.0\n",
      "17842    221.0\n",
      "Name: Avg RTT DL (ms), dtype: float64\n"
     ]
    }
   ],
   "source": [
    "top_rtt_values = df['Avg RTT DL (ms)'].nlargest(10)\n",
    "bottom_rtt_values = df['Avg RTT DL (ms)'].nsmallest(10)\n",
    "most_frequent_rtt_values = df['Avg RTT DL (ms)'].value_counts().head(10)\n",
    "print(\"Top RTT values:\")\n",
    "print(top_rtt_values)"
   ]
  },
  {
   "cell_type": "code",
   "execution_count": 45,
   "metadata": {},
   "outputs": [
    {
     "name": "stdout",
     "output_type": "stream",
     "text": [
      "Top Throughput values:\n",
      "18806     49205.0\n",
      "38826     49205.0\n",
      "77256     49205.0\n",
      "89774     49202.0\n",
      "143234    49202.0\n",
      "75906     49200.0\n",
      "120419    49200.0\n",
      "78071     49198.0\n",
      "141638    49195.0\n",
      "87284     49193.0\n",
      "Name: Avg Bearer TP DL (kbps), dtype: float64\n"
     ]
    }
   ],
   "source": [
    "top_throughput_values = df['Avg Bearer TP DL (kbps)'].nlargest(10)\n",
    "bottom_throughput_values = df['Avg Bearer TP DL (kbps)'].nsmallest(10)\n",
    "most_frequent_throughput_values = df['Avg Bearer TP DL (kbps)'].value_counts().head(10)\n",
    "print(\"Top Throughput values:\")\n",
    "print(top_throughput_values)"
   ]
  },
  {
   "cell_type": "code",
   "execution_count": 46,
   "metadata": {},
   "outputs": [
    {
     "name": "stdout",
     "output_type": "stream",
     "text": [
      "Handset Type\n",
      "A-Link Telecom I. Cubot A5                                                             23184.000000\n",
      "A-Link Telecom I. Cubot Note Plus                                                       6527.000000\n",
      "A-Link Telecom I. Cubot Note S                                                          8515.000000\n",
      "A-Link Telecom I. Cubot Nova                                                           13300.045927\n",
      "A-Link Telecom I. Cubot Power                                                          13300.045927\n",
      "                                                                                           ...     \n",
      "Zte Zte Blade C2 Smartphone Android By Sfr Startrail 4 Zte Blade Flex T809 Zte T809       44.500000\n",
      "Zyxel Communicat. Lte7460                                                              39741.000000\n",
      "Zyxel Communicat. Sbg3600                                                              13300.045927\n",
      "Zyxel Communicat. Zyxel Wah7706                                                         1263.000000\n",
      "undefined                                                                               5062.661440\n",
      "Name: Avg Bearer TP DL (kbps), Length: 1397, dtype: float64\n"
     ]
    }
   ],
   "source": [
    "# Compute distribution of average throughput per handset type\n",
    "throughput_distribution = df.groupby('Handset Type')['Avg Bearer TP DL (kbps)'].mean()\n",
    "print(throughput_distribution)"
   ]
  },
  {
   "cell_type": "code",
   "execution_count": 47,
   "metadata": {},
   "outputs": [
    {
     "name": "stdout",
     "output_type": "stream",
     "text": [
      "Handset Type\n",
      "A-Link Telecom I. Cubot A5                                                             2.080991e+07\n",
      "A-Link Telecom I. Cubot Note Plus                                                      6.023490e+05\n",
      "A-Link Telecom I. Cubot Note S                                                         4.134448e+07\n",
      "A-Link Telecom I. Cubot Nova                                                           1.358400e+05\n",
      "A-Link Telecom I. Cubot Power                                                          7.799000e+03\n",
      "                                                                                           ...     \n",
      "Zte Zte Blade C2 Smartphone Android By Sfr Startrail 4 Zte Blade Flex T809 Zte T809    1.040629e+07\n",
      "Zyxel Communicat. Lte7460                                                              2.384303e+07\n",
      "Zyxel Communicat. Sbg3600                                                              2.080991e+07\n",
      "Zyxel Communicat. Zyxel Wah7706                                                        1.160000e+02\n",
      "undefined                                                                              1.542921e+07\n",
      "Name: TCP DL Retrans. Vol (Bytes), Length: 1397, dtype: float64\n"
     ]
    }
   ],
   "source": [
    "# Compute average TCP retransmission per handset type\n",
    "tcp_retransmission_per_handset = df.groupby('Handset Type')['TCP DL Retrans. Vol (Bytes)'].mean()\n",
    "print(tcp_retransmission_per_handset)"
   ]
  },
  {
   "cell_type": "code",
   "execution_count": null,
   "metadata": {},
   "outputs": [],
   "source": [
    "# Check and impute missing values\n",
    "df[['Avg RTT DL (ms)', 'Avg Bearer TP DL (kbps)', 'TCP DL Retrans. Vol (Bytes)']].fillna(df.mean(), inplace=True)\n",
    "\n",
    "# Scaling the data\n",
    "scaler = StandardScaler()\n",
    "X = scaler.fit_transform(df[['Avg RTT DL (ms)', 'Avg Bearer TP DL (kbps)', 'TCP DL Retrans. Vol (Bytes)']])\n",
    "\n",
    "# K-means clustering\n",
    "kmeans = KMeans(n_clusters=3, random_state=42)\n",
    "df['cluster'] = kmeans.fit_predict(X)\n",
    "\n",
    "# Description of clusters\n",
    "cluster_descriptions = df.groupby('cluster').mean()\n",
    "\n",
    "# Convert all values to strings\n",
    "cluster_descriptions = cluster_descriptions.applymap(str)\n",
    "\n",
    "print(cluster_descriptions)"
   ]
  },
  {
   "cell_type": "code",
   "execution_count": 26,
   "metadata": {},
   "outputs": [
    {
     "name": "stdout",
     "output_type": "stream",
     "text": [
      "Avg RTT DL (ms)                float64\n",
      "Avg Bearer TP DL (kbps)        float64\n",
      "TCP DL Retrans. Vol (Bytes)    float64\n",
      "dtype: object\n"
     ]
    }
   ],
   "source": [
    "print(df[['Avg RTT DL (ms)', 'Avg Bearer TP DL (kbps)', 'TCP DL Retrans. Vol (Bytes)']].dtypes)\n"
   ]
  }
 ],
 "metadata": {
  "kernelspec": {
   "display_name": "base",
   "language": "python",
   "name": "python3"
  },
  "language_info": {
   "codemirror_mode": {
    "name": "ipython",
    "version": 3
   },
   "file_extension": ".py",
   "mimetype": "text/x-python",
   "name": "python",
   "nbconvert_exporter": "python",
   "pygments_lexer": "ipython3",
   "version": "3.11.7"
  }
 },
 "nbformat": 4,
 "nbformat_minor": 2
}
