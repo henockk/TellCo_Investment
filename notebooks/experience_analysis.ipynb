{
 "cells": [
  {
   "cell_type": "code",
   "execution_count": null,
   "metadata": {},
   "outputs": [],
   "source": [
    "import pandas as pd\n",
    "from sqlalchemy import create_engine\n",
    "from sklearn.preprocessing import StandardScaler\n",
    "from sklearn.cluster import KMeans"
   ]
  },
  {
   "cell_type": "code",
   "execution_count": null,
   "metadata": {},
   "outputs": [],
   "source": [
    "database_name = 'processed_telecom'\n",
    "table_name= 'xdr_data'\n",
    "\n",
    "connection_params = { \"host\": \"localhost\", \"user\": \"postgres\", \"password\": \"00000000\",\n",
    "                    \"port\": \"5432\", \"database\": database_name}\n",
    "\n",
    "engine = create_engine(f\"postgresql+psycopg2://{connection_params['user']}:{connection_params['password']}@{connection_params['host']}:{connection_params['port']}/{connection_params['database']}\")\n",
    "\n",
    "# str or SQLAlchemy Selectable (select or text object)\n",
    "sql_query = 'SELECT * FROM xdr_data '\n",
    "\n",
    "df = pd.read_sql(sql_query, con= engine)"
   ]
  },
  {
   "cell_type": "code",
   "execution_count": null,
   "metadata": {},
   "outputs": [],
   "source": [
    "df.info()"
   ]
  },
  {
   "cell_type": "markdown",
   "metadata": {},
   "source": [
    "Aggregate information per customer\n"
   ]
  },
  {
   "cell_type": "code",
   "execution_count": null,
   "metadata": {},
   "outputs": [],
   "source": [
    "# Convert 'Handset Type' column to string type\n",
    "df['Handset Type'] = df['Handset Type'].astype(str)"
   ]
  },
  {
   "cell_type": "code",
   "execution_count": null,
   "metadata": {},
   "outputs": [],
   "source": [
    "# Aggregate information per customer\n",
    "aggregated_df = df.groupby('MSISDN/Number').agg({\n",
    "    \n",
    "    'TCP DL Retrans. Vol (Bytes)':'mean',\n",
    "     'Avg RTT DL (ms)': 'mean',\n",
    "       'Handset Type':lambda x:x.mode()[0],\n",
    "        'Avg Bearer TP DL (kbps)': 'mean'\n",
    "       }).reset_index()\n",
    "print(aggregated_df.head())\n"
   ]
  },
  {
   "cell_type": "code",
   "execution_count": null,
   "metadata": {},
   "outputs": [],
   "source": [
    "# Compute top, bottom, and most frequent values\n",
    "top_tcp_values = df['TCP DL Retrans. Vol (Bytes)'].nlargest(10)\n",
    "bottom_tcp_values = df['TCP DL Retrans. Vol (Bytes)'].nsmallest(10)\n",
    "most_frequent_tcp_values = df['TCP DL Retrans. Vol (Bytes)'].value_counts().head(10)\n",
    "print(\"Top TCP values:\")\n",
    "print(top_tcp_values)"
   ]
  },
  {
   "cell_type": "code",
   "execution_count": null,
   "metadata": {},
   "outputs": [],
   "source": [
    "top_rtt_values = df['Avg RTT DL (ms)'].nlargest(10)\n",
    "bottom_rtt_values = df['Avg RTT DL (ms)'].nsmallest(10)\n",
    "most_frequent_rtt_values = df['Avg RTT DL (ms)'].value_counts().head(10)\n",
    "print(\"Top RTT values:\")\n",
    "print(top_rtt_values)"
   ]
  },
  {
   "cell_type": "code",
   "execution_count": null,
   "metadata": {},
   "outputs": [],
   "source": [
    "top_throughput_values = df['Avg Bearer TP DL (kbps)'].nlargest(10)\n",
    "bottom_throughput_values = df['Avg Bearer TP DL (kbps)'].nsmallest(10)\n",
    "most_frequent_throughput_values = df['Avg Bearer TP DL (kbps)'].value_counts().head(10)\n",
    "print(\"Top Throughput values:\")\n",
    "print(top_throughput_values)"
   ]
  },
  {
   "cell_type": "code",
   "execution_count": null,
   "metadata": {},
   "outputs": [],
   "source": [
    "# Compute distribution of average throughput per handset type\n",
    "throughput_distribution = df.groupby('Handset Type')['Avg Bearer TP DL (kbps)'].mean()\n",
    "print(throughput_distribution)"
   ]
  },
  {
   "cell_type": "code",
   "execution_count": null,
   "metadata": {},
   "outputs": [],
   "source": [
    "# Compute average TCP retransmission per handset type\n",
    "tcp_retransmission_per_handset = df.groupby('Handset Type')['TCP DL Retrans. Vol (Bytes)'].mean()\n",
    "print(tcp_retransmission_per_handset)"
   ]
  },
  {
   "cell_type": "code",
   "execution_count": null,
   "metadata": {},
   "outputs": [],
   "source": [
    "#Perform Clustering\n",
    "kmeans = KMeans(n_clusters=3)  # Choose an appropriate value of k\n",
    "df['cluster'] = kmeans.fit_predict(df[['Avg RTT DL (ms)', 'Avg Bearer TP DL (kbps)', 'TCP DL Retrans. Vol (Bytes)']]) \n"
   ]
  },
  {
   "cell_type": "code",
   "execution_count": null,
   "metadata": {},
   "outputs": [],
   "source": [
    "# Check and impute missing values\n",
    "df[['Avg RTT DL (ms)', 'Avg Bearer TP DL (kbps)', 'TCP DL Retrans. Vol (Bytes)']].fillna(df.mean(), inplace=True)\n",
    "\n",
    "# Scaling the data\n",
    "scaler = StandardScaler()\n",
    "X = scaler.fit_transform(df[['Avg RTT DL (ms)', 'Avg Bearer TP DL (kbps)', 'TCP DL Retrans. Vol (Bytes)']])\n",
    "\n",
    "# K-means clustering\n",
    "kmeans = KMeans(n_clusters=3, random_state=42)\n",
    "df['cluster'] = kmeans.fit_predict(X)\n",
    "\n",
    "# Description of clusters\n",
    "cluster_descriptions = df.groupby('cluster').mean()\n",
    "\n",
    "# Convert all values to strings\n",
    "cluster_descriptions = cluster_descriptions.applymap(str)\n",
    "\n",
    "print(cluster_descriptions)"
   ]
  },
  {
   "cell_type": "code",
   "execution_count": null,
   "metadata": {},
   "outputs": [],
   "source": [
    "print(df[['Avg RTT DL (ms)', 'Avg Bearer TP DL (kbps)', 'TCP DL Retrans. Vol (Bytes)']].dtypes)\n"
   ]
  }
 ],
 "metadata": {
  "kernelspec": {
   "display_name": "base",
   "language": "python",
   "name": "python3"
  },
  "language_info": {
   "codemirror_mode": {
    "name": "ipython",
    "version": 3
   },
   "file_extension": ".py",
   "mimetype": "text/x-python",
   "name": "python",
   "nbconvert_exporter": "python",
   "pygments_lexer": "ipython3",
   "version": "3.11.7"
  }
 },
 "nbformat": 4,
 "nbformat_minor": 2
}
